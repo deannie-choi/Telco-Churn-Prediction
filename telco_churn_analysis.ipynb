{
 "cells": [
  {
   "cell_type": "markdown",
   "metadata": {},
   "source": [
    "# Telco Customer Churn Analysis\n",
    "\n",
    "## 1. Data Understanding"
   ]
  },
  {
   "cell_type": "code",
   "execution_count": null,
   "metadata": {},
   "source": [
    "# Import required libraries\n",
    "import pandas as pd\n",
    "import numpy as np\n",
    "import matplotlib.pyplot as plt\n",
    "import seaborn as sns\n",
    "from sklearn.model_selection import train_test_split\n",
    "from sklearn.preprocessing import StandardScaler\n",
    "from sklearn.linear_model import LogisticRegression\n",
    "from sklearn.ensemble import RandomForestClassifier\n",
    "from xgboost import XGBClassifier\n",
    "from sklearn.metrics import classification_report, roc_auc_score, confusion_matrix\n",
    "from imblearn.over_sampling import SMOTE\n",
    "\n",
    "# Load the dataset\n",
    "df = pd.read_csv('Telco customer churn.csv')\n",
    "\n",
    "# Check basic information\n",
    "print(\"\\nBasic Information:\")\n",
    "print(df.info())\n",
    "\n",
    "# Check statistics\n",
    "print(\"\\nStatistics:\")\n",
    "print(df.describe())\n",
    "\n",
    "# Check churn rate\n",
    "print(\"\\nChurn Rate:\")\n",
    "print(df['Churn'].value_counts(normalize=True))"
   ]
  },
  {
   "cell_type": "markdown",
   "metadata": {},
   "source": [
    "## 2. Exploratory Data Analysis (EDA)"
   ]
  },
  {
   "cell_type": "code",
   "execution_count": null,
   "metadata": {},
   "source": [
    "# Visualize churn distribution\n",
    "plt.figure(figsize=(8, 6))\n",
    "sns.countplot(data=df, x='Churn')\n",
    "plt.title('Churn Distribution')\n",
    "plt.show()\n",
    "\n",
    "# Visualize churn rate by age group\n",
    "plt.figure(figsize=(12, 6))\n",
    "sns.countplot(data=df, x='SeniorCitizen', hue='Churn')\n",
    "plt.title('Churn by SeniorCitizen')\n",
    "plt.show()\n",
    "\n",
    "# Visualize churn rate by contract type\n",
    "plt.figure(figsize=(12, 6))\n",
    "sns.countplot(data=df, x='Contract', hue='Churn')\n",
    "plt.xticks(rotation=45)\n",
    "plt.title('Churn by Contract Type')\n",
    "plt.show()"
   ]
  },
  {
   "cell_type": "markdown",
   "metadata": {},
   "source": [
    "## 3. Data Preprocessing"
   ]
  },
  {
   "cell_type": "code",
   "execution_count": null,
   "metadata": {},
   "source": [
    "# Handle missing values in TotalCharges\n",
    "df['TotalCharges'] = pd.to_numeric(df['TotalCharges'], errors='coerce')\n",
    "df['TotalCharges'].fillna(0, inplace=True)\n",
    "\n",
    "# Drop customerID as it's not needed for analysis\n",
    "df = df.drop('customerID', axis=1)\n",
    "\n",
    "# Convert Churn to binary\n",
    "df['Churn'] = df['Churn'].map({'No': 0, 'Yes': 1})\n",
    "\n",
    "# Convert categorical variables to dummy variables\n",
    "categorical_cols = ['gender', 'Partner', 'Dependents', 'PhoneService', 'MultipleLines',\n",
    "                   'InternetService', 'OnlineSecurity', 'OnlineBackup', 'DeviceProtection',\n",
    "                   'TechSupport', 'StreamingTV', 'StreamingMovies', 'Contract',\n",
    "                   'PaperlessBilling', 'PaymentMethod']\n",
    "\n",
    "# Create dummy variables for categorical columns\n",
    "df = pd.get_dummies(df, columns=categorical_cols)\n",
    "\n",
    "# Separate features and target\n",
    "X = df.drop('Churn', axis=1)\n",
    "y = df['Churn']"
   ]
  },
  {
   "cell_type": "markdown",
   "metadata": {},
   "source": [
    "## 4. Model Building"
   ]
  },
  {
   "cell_type": "code",
   "execution_count": null,
   "metadata": {},
   "source": [
    "# Split data into train and test sets\n",
    "X_train, X_test, y_train, y_test = train_test_split(X, y, test_size=0.2, random_state=42)\n",
    "\n",
    "# Apply SMOTE for imbalanced data\n",
    "smote = SMOTE(random_state=42)\n",
    "X_train_res, y_train_res = smote.fit_resample(X_train, y_train)\n",
    "\n",
    "# Create models dictionary\n",
    "models = {\n",
    "    'Logistic Regression': LogisticRegression(random_state=42),\n",
    "    'Random Forest': RandomForestClassifier(random_state=42),\n",
    "    'XGBoost': XGBClassifier(random_state=42)\n",
    "}\n",
    "\n",
    "results = {}\n",
    "\n",
    "for name, model in models.items():\n",
    "    model.fit(X_train_res, y_train_res)\n",
    "    y_pred = model.predict(X_test)\n",
    "    \n",
    "    # Evaluate model performance\n",
    "    auc = roc_auc_score(y_test, model.predict_proba(X_test)[:, 1])\n",
    "    report = classification_report(y_test, y_pred)\n",
    "    \n",
    "    feature_importance = None\n",
    "    if hasattr(model, 'feature_importances_'):\n",
    "        feature_importance = pd.Series(model.feature_importances_, index=X.columns)\n",
    "    elif hasattr(model, 'coef_'):\n",
    "        feature_importance = pd.Series(model.coef_[0], index=X.columns)\n",
    "    \n",
    "    results[name] = {\n",
    "        'AUC': auc,\n",
    "        'Report': report,\n",
    "        'Feature Importance': feature_importance\n",
    "    }"
   ]
  },
  {
   "cell_type": "markdown",
   "metadata": {},
   "source": [
    "## 5. Results"
   ]
  },
  {
   "cell_type": "code",
   "execution_count": null,
   "metadata": {},
   "source": [
    "# Print results\n",
    "for model_name, result in results.items():\n",
    "    print(f'\\n{model_name} Results:')\n",
    "    print(f'AUC: {result['AUC']:.4f}')\n",
    "    print('\\nFeature Importance:')\n",
    "    if result['Feature Importance'] is not None:\n",
    "        print(result['Feature Importance'].sort_values(ascending=False).head(10))\n",
    "    else:\n",
    "        print('Feature importance not available for this model.')"
   ]
  }
 ],
 "metadata": {
  "kernelspec": {
   "display_name": "Python 3",
   "language": "python",
   "name": "python3"
  },
  "language_info": {
   "codemirror_mode": {
    "name": "ipython",
    "version": 3
   },
   "file_extension": ".py",
   "mimetype": "text/x-python",
   "name": "python",
   "nbconvert_exporter": "python",
   "pygments_lexer": "ipython3",
   "version": "3.8.0"
  }
 },
 "nbformat": 4,
 "nbformat_minor": 4
}
